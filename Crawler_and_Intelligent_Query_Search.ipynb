{
  "nbformat": 4,
  "nbformat_minor": 0,
  "metadata": {
    "colab": {
      "name": "Crawler and Intelligent Query Search ",
      "provenance": [],
      "collapsed_sections": [],
      "include_colab_link": true
    },
    "kernelspec": {
      "name": "python3",
      "display_name": "Python 3"
    },
    "accelerator": "GPU"
  },
  "cells": [
    {
      "cell_type": "markdown",
      "metadata": {
        "id": "view-in-github",
        "colab_type": "text"
      },
      "source": [
        "<a href=\"https://colab.research.google.com/github/Soumi7/EY_GDS_Project/blob/main/Crawler_and_Intelligent_Query_Search.ipynb\" target=\"_parent\"><img src=\"https://colab.research.google.com/assets/colab-badge.svg\" alt=\"Open In Colab\"/></a>"
      ]
    },
    {
      "cell_type": "code",
      "metadata": {
        "colab": {
          "base_uri": "https://localhost:8080/"
        },
        "id": "fNSMgI1QeVMS",
        "outputId": "995732d7-3540-4e40-9704-d3797f66e791"
      },
      "source": [
        "from google.colab import drive\n",
        "drive.mount('/content/drive')"
      ],
      "execution_count": 1,
      "outputs": [
        {
          "output_type": "stream",
          "text": [
            "Mounted at /content/drive\n"
          ],
          "name": "stdout"
        }
      ]
    },
    {
      "cell_type": "code",
      "metadata": {
        "id": "NzcqJDRPFI-s"
      },
      "source": [
        "!pip install -r /content/drive/MyDrive/EY_DATA/requirements.txt"
      ],
      "execution_count": null,
      "outputs": []
    },
    {
      "cell_type": "code",
      "metadata": {
        "id": "niD67jEW1wlv"
      },
      "source": [
        "!python3 crawler.py"
      ],
      "execution_count": null,
      "outputs": []
    },
    {
      "cell_type": "code",
      "metadata": {
        "colab": {
          "base_uri": "https://localhost:8080/"
        },
        "id": "67_13tOy1wU6",
        "outputId": "b4011901-bc40-4df7-97a0-604ca23cfc77"
      },
      "source": [
        "!python3 intelligent_search.py"
      ],
      "execution_count": 27,
      "outputs": [
        {
          "output_type": "stream",
          "text": [
            "2020-12-08 21:30:08.049177: I tensorflow/stream_executor/platform/default/dso_loader.cc:48] Successfully opened dynamic library libcudart.so.10.1\n",
            "2020-12-08 21:30:10.953591: I tensorflow/stream_executor/platform/default/dso_loader.cc:48] Successfully opened dynamic library libcuda.so.1\n",
            "2020-12-08 21:30:10.989679: I tensorflow/stream_executor/cuda/cuda_gpu_executor.cc:982] successful NUMA node read from SysFS had negative value (-1), but there must be at least one NUMA node, so returning NUMA node zero\n",
            "2020-12-08 21:30:10.990258: I tensorflow/core/common_runtime/gpu/gpu_device.cc:1716] Found device 0 with properties: \n",
            "pciBusID: 0000:00:04.0 name: Tesla T4 computeCapability: 7.5\n",
            "coreClock: 1.59GHz coreCount: 40 deviceMemorySize: 14.73GiB deviceMemoryBandwidth: 298.08GiB/s\n",
            "2020-12-08 21:30:10.990303: I tensorflow/stream_executor/platform/default/dso_loader.cc:48] Successfully opened dynamic library libcudart.so.10.1\n",
            "2020-12-08 21:30:10.992084: I tensorflow/stream_executor/platform/default/dso_loader.cc:48] Successfully opened dynamic library libcublas.so.10\n",
            "2020-12-08 21:30:10.993738: I tensorflow/stream_executor/platform/default/dso_loader.cc:48] Successfully opened dynamic library libcufft.so.10\n",
            "2020-12-08 21:30:10.994085: I tensorflow/stream_executor/platform/default/dso_loader.cc:48] Successfully opened dynamic library libcurand.so.10\n",
            "2020-12-08 21:30:10.996363: I tensorflow/stream_executor/platform/default/dso_loader.cc:48] Successfully opened dynamic library libcusolver.so.10\n",
            "2020-12-08 21:30:10.997536: I tensorflow/stream_executor/platform/default/dso_loader.cc:48] Successfully opened dynamic library libcusparse.so.10\n",
            "2020-12-08 21:30:11.001055: I tensorflow/stream_executor/platform/default/dso_loader.cc:48] Successfully opened dynamic library libcudnn.so.7\n",
            "2020-12-08 21:30:11.001182: I tensorflow/stream_executor/cuda/cuda_gpu_executor.cc:982] successful NUMA node read from SysFS had negative value (-1), but there must be at least one NUMA node, so returning NUMA node zero\n",
            "2020-12-08 21:30:11.001751: I tensorflow/stream_executor/cuda/cuda_gpu_executor.cc:982] successful NUMA node read from SysFS had negative value (-1), but there must be at least one NUMA node, so returning NUMA node zero\n",
            "2020-12-08 21:30:11.002259: I tensorflow/core/common_runtime/gpu/gpu_device.cc:1858] Adding visible gpu devices: 0\n",
            "2020-12-08 21:30:11.002569: I tensorflow/core/platform/cpu_feature_guard.cc:142] This TensorFlow binary is optimized with oneAPI Deep Neural Network Library (oneDNN)to use the following CPU instructions in performance-critical operations:  AVX2 FMA\n",
            "To enable them in other operations, rebuild TensorFlow with the appropriate compiler flags.\n",
            "2020-12-08 21:30:11.007700: I tensorflow/core/platform/profile_utils/cpu_utils.cc:104] CPU Frequency: 2200000000 Hz\n",
            "2020-12-08 21:30:11.007877: I tensorflow/compiler/xla/service/service.cc:168] XLA service 0x3272d80 initialized for platform Host (this does not guarantee that XLA will be used). Devices:\n",
            "2020-12-08 21:30:11.007903: I tensorflow/compiler/xla/service/service.cc:176]   StreamExecutor device (0): Host, Default Version\n",
            "2020-12-08 21:30:11.112876: I tensorflow/stream_executor/cuda/cuda_gpu_executor.cc:982] successful NUMA node read from SysFS had negative value (-1), but there must be at least one NUMA node, so returning NUMA node zero\n",
            "2020-12-08 21:30:11.113548: I tensorflow/compiler/xla/service/service.cc:168] XLA service 0x3272bc0 initialized for platform CUDA (this does not guarantee that XLA will be used). Devices:\n",
            "2020-12-08 21:30:11.113589: I tensorflow/compiler/xla/service/service.cc:176]   StreamExecutor device (0): Tesla T4, Compute Capability 7.5\n",
            "2020-12-08 21:30:11.113772: I tensorflow/stream_executor/cuda/cuda_gpu_executor.cc:982] successful NUMA node read from SysFS had negative value (-1), but there must be at least one NUMA node, so returning NUMA node zero\n",
            "2020-12-08 21:30:11.114334: I tensorflow/core/common_runtime/gpu/gpu_device.cc:1716] Found device 0 with properties: \n",
            "pciBusID: 0000:00:04.0 name: Tesla T4 computeCapability: 7.5\n",
            "coreClock: 1.59GHz coreCount: 40 deviceMemorySize: 14.73GiB deviceMemoryBandwidth: 298.08GiB/s\n",
            "2020-12-08 21:30:11.114376: I tensorflow/stream_executor/platform/default/dso_loader.cc:48] Successfully opened dynamic library libcudart.so.10.1\n",
            "2020-12-08 21:30:11.114413: I tensorflow/stream_executor/platform/default/dso_loader.cc:48] Successfully opened dynamic library libcublas.so.10\n",
            "2020-12-08 21:30:11.114433: I tensorflow/stream_executor/platform/default/dso_loader.cc:48] Successfully opened dynamic library libcufft.so.10\n",
            "2020-12-08 21:30:11.114451: I tensorflow/stream_executor/platform/default/dso_loader.cc:48] Successfully opened dynamic library libcurand.so.10\n",
            "2020-12-08 21:30:11.114479: I tensorflow/stream_executor/platform/default/dso_loader.cc:48] Successfully opened dynamic library libcusolver.so.10\n",
            "2020-12-08 21:30:11.114501: I tensorflow/stream_executor/platform/default/dso_loader.cc:48] Successfully opened dynamic library libcusparse.so.10\n",
            "2020-12-08 21:30:11.114519: I tensorflow/stream_executor/platform/default/dso_loader.cc:48] Successfully opened dynamic library libcudnn.so.7\n",
            "2020-12-08 21:30:11.114590: I tensorflow/stream_executor/cuda/cuda_gpu_executor.cc:982] successful NUMA node read from SysFS had negative value (-1), but there must be at least one NUMA node, so returning NUMA node zero\n",
            "2020-12-08 21:30:11.115136: I tensorflow/stream_executor/cuda/cuda_gpu_executor.cc:982] successful NUMA node read from SysFS had negative value (-1), but there must be at least one NUMA node, so returning NUMA node zero\n",
            "2020-12-08 21:30:11.115620: I tensorflow/core/common_runtime/gpu/gpu_device.cc:1858] Adding visible gpu devices: 0\n",
            "2020-12-08 21:30:11.115664: I tensorflow/stream_executor/platform/default/dso_loader.cc:48] Successfully opened dynamic library libcudart.so.10.1\n",
            "2020-12-08 21:30:11.853561: I tensorflow/core/common_runtime/gpu/gpu_device.cc:1257] Device interconnect StreamExecutor with strength 1 edge matrix:\n",
            "2020-12-08 21:30:11.853618: I tensorflow/core/common_runtime/gpu/gpu_device.cc:1263]      0 \n",
            "2020-12-08 21:30:11.853630: I tensorflow/core/common_runtime/gpu/gpu_device.cc:1276] 0:   N \n",
            "2020-12-08 21:30:11.853846: I tensorflow/stream_executor/cuda/cuda_gpu_executor.cc:982] successful NUMA node read from SysFS had negative value (-1), but there must be at least one NUMA node, so returning NUMA node zero\n",
            "2020-12-08 21:30:11.854476: I tensorflow/stream_executor/cuda/cuda_gpu_executor.cc:982] successful NUMA node read from SysFS had negative value (-1), but there must be at least one NUMA node, so returning NUMA node zero\n",
            "2020-12-08 21:30:11.854975: W tensorflow/core/common_runtime/gpu/gpu_bfc_allocator.cc:39] Overriding allow_growth setting because the TF_FORCE_GPU_ALLOW_GROWTH environment variable is set. Original config value was 0.\n",
            "2020-12-08 21:30:11.855015: I tensorflow/core/common_runtime/gpu/gpu_device.cc:1402] Created TensorFlow device (/job:localhost/replica:0/task:0/device:GPU:0 with 13936 MB memory) -> physical GPU (device: 0, name: Tesla T4, pci bus id: 0000:00:04.0, compute capability: 7.5)\n",
            "Enter querycode\n",
            "['code']\n",
            "2020-12-08 21:38:39.634628: I tensorflow/stream_executor/platform/default/dso_loader.cc:48] Successfully opened dynamic library libcublas.so.10\n",
            "\n",
            "['Coding Guidelines']\n",
            "C++ Core guideline.pdf\n",
            "/content/drive/MyDrive/EY_DATA/data_to_preprocess/C++ Core guideline.pdf\n",
            "\n",
            "The_Value_Proposition_Concept_in_Marketing_How_Cus.pdf\n",
            "/content/drive/MyDrive/EY_DATA/data_to_preprocess/ValueProposition/The_Value_Proposition_Concept_in_Marketing_How_Cus.pdf\n",
            "\n",
            "WritingProjectProposaldocumentguide.pdf\n",
            "/content/drive/MyDrive/EY_DATA/data_to_preprocess/ProjectProposals/WritingProjectProposaldocumentguide.pdf\n",
            "\n",
            "9th_edf_project_proposal_template.pdf\n",
            "/content/drive/MyDrive/EY_DATA/data_to_preprocess/ProjectProposals/9th_edf_project_proposal_template.pdf\n",
            "\n",
            "W3B-PR-02-Jordan-Technical_Proposal.pdf\n",
            "/content/drive/MyDrive/EY_DATA/data_to_preprocess/ProjectProposals/W3B-PR-02-Jordan-Technical_Proposal.pdf\n",
            "\n",
            "twt_en.pdf\n",
            "/content/drive/MyDrive/EY_DATA/data_to_preprocess/ProjectProposals/twt_en.pdf\n",
            "\n",
            "Project-Proposal-Template-for-PAS-Funding-Bangui.pdf\n",
            "/content/drive/MyDrive/EY_DATA/data_to_preprocess/ProjectProposals/Project-Proposal-Template-for-PAS-Funding-Bangui.pdf\n",
            "\n",
            "writing-a-successful-proposal.pdf\n",
            "/content/drive/MyDrive/EY_DATA/data_to_preprocess/ProjectProposals/writing-a-successful-proposal.pdf\n",
            "\n",
            "Sample Project Proposal.pdf\n",
            "/content/drive/MyDrive/EY_DATA/data_to_preprocess/ProjectProposals/Sample Project Proposal.pdf\n",
            "\n",
            "Film Director Research.pdf\n",
            "/content/drive/MyDrive/EY_DATA/data_to_preprocess/Research/Film Director Research.pdf\n",
            "\n",
            "Marketing Plan Research.pdf\n",
            "/content/drive/MyDrive/EY_DATA/data_to_preprocess/Research/Marketing Plan Research.pdf\n",
            "\n",
            "Data Analysis Paper.pdf\n",
            "/content/drive/MyDrive/EY_DATA/data_to_preprocess/Research/Data Analysis Paper.pdf\n",
            "\n",
            "Abnormal Psychology Research.pdf\n",
            "/content/drive/MyDrive/EY_DATA/data_to_preprocess/Research/Abnormal Psychology Research.pdf\n",
            "\n",
            "The_Coca-Cola_Company_58251_11550490961.pdf\n",
            "/content/drive/MyDrive/EY_DATA/data_to_preprocess/Research/The_Coca-Cola_Company_58251_11550490961.pdf\n",
            "\n",
            "Analysis of Mahindra and Mahindra and its subsidiary companies..pdf\n",
            "/content/drive/MyDrive/EY_DATA/data_to_preprocess/Research/Analysis of Mahindra and Mahindra and its subsidiary companies..pdf\n",
            "\n",
            "Enter queryaudits\n",
            "['audits']\n",
            "\n",
            "['AuditProposals']\n",
            "Enter queryCoco cola\n",
            "['Coco cola']\n",
            "\n",
            "['Case Study']\n",
            "HOnda.pdf\n",
            "/content/drive/MyDrive/EY_DATA/data_to_preprocess/Company Details/HOnda.pdf\n",
            "\n",
            "Q119_Amazon_Earnings_Press_Release_FINAL.pdf\n",
            "/content/drive/MyDrive/EY_DATA/data_to_preprocess/Financial Reports/Q119_Amazon_Earnings_Press_Release_FINAL.pdf\n",
            "\n",
            "Amazon_Fake_Reviews.pdf\n",
            "/content/drive/MyDrive/EY_DATA/data_to_preprocess/Research/Amazon_Fake_Reviews.pdf\n",
            "\n",
            "A BUSINESS HISTORY1 amazon.pdf\n",
            "/content/drive/MyDrive/EY_DATA/data_to_preprocess/Research/A BUSINESS HISTORY1 amazon.pdf\n",
            "\n",
            "Enter queryEXIT\n",
            "Exiting\n"
          ],
          "name": "stdout"
        }
      ]
    },
    {
      "cell_type": "code",
      "metadata": {
        "id": "tZxpg3aPLkFK"
      },
      "source": [
        ""
      ],
      "execution_count": null,
      "outputs": []
    }
  ]
}